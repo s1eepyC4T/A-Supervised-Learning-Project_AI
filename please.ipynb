{
 "cells": [
  {
   "cell_type": "markdown",
   "metadata": {},
   "source": [
    "1. Loading and Inspecting the Data"
   ]
  },
  {
   "cell_type": "code",
   "execution_count": 10,
   "metadata": {},
   "outputs": [
    {
     "name": "stdout",
     "output_type": "stream",
     "text": [
      "<class 'pandas.core.frame.DataFrame'>\n",
      "RangeIndex: 100000 entries, 0 to 99999\n",
      "Data columns (total 9 columns):\n",
      " #   Column               Non-Null Count   Dtype  \n",
      "---  ------               --------------   -----  \n",
      " 0   gender               100000 non-null  object \n",
      " 1   age                  100000 non-null  float64\n",
      " 2   hypertension         100000 non-null  int64  \n",
      " 3   heart_disease        100000 non-null  int64  \n",
      " 4   smoking_history      100000 non-null  object \n",
      " 5   bmi                  100000 non-null  float64\n",
      " 6   HbA1c_level          100000 non-null  float64\n",
      " 7   blood_glucose_level  100000 non-null  int64  \n",
      " 8   diabetes             100000 non-null  int64  \n",
      "dtypes: float64(3), int64(4), object(2)\n",
      "memory usage: 6.9+ MB\n",
      "None\n",
      "   gender   age  hypertension  heart_disease smoking_history    bmi  \\\n",
      "0  Female  80.0             0              1           never  25.19   \n",
      "1  Female  54.0             0              0         No Info  27.32   \n",
      "2    Male  28.0             0              0           never  27.32   \n",
      "3  Female  36.0             0              0         current  23.45   \n",
      "4    Male  76.0             1              1         current  20.14   \n",
      "\n",
      "   HbA1c_level  blood_glucose_level  diabetes  \n",
      "0          6.6                  140         0  \n",
      "1          6.6                   80         0  \n",
      "2          5.7                  158         0  \n",
      "3          5.0                  155         0  \n",
      "4          4.8                  155         0  \n",
      "\n",
      "Missing Values:\n",
      " gender                 0\n",
      "age                    0\n",
      "hypertension           0\n",
      "heart_disease          0\n",
      "smoking_history        0\n",
      "bmi                    0\n",
      "HbA1c_level            0\n",
      "blood_glucose_level    0\n",
      "diabetes               0\n",
      "dtype: int64\n",
      "\n",
      "Unique Values in 'gender': ['Female' 'Male' 'Other']\n",
      "Unique Values in 'smoking_history': ['never' 'No Info' 'current' 'former' 'ever' 'not current']\n"
     ]
    }
   ],
   "source": [
    "import pandas as pd\n",
    "\n",
    "# Load the dataset\n",
    "data = pd.read_csv('diabetes.csv')\n",
    "\n",
    "# Display basic information about the dataset\n",
    "data_info = data.info()\n",
    "print(data_info)\n",
    "\n",
    "# Display the first few rows to understand the structure\n",
    "data_head = data.head()\n",
    "print(data_head)\n",
    "\n",
    "# Check for missing values\n",
    "missing_values = data.isnull().sum()\n",
    "print(\"\\nMissing Values:\\n\", missing_values)\n",
    "\n",
    "# Explore unique values in categorical columns\n",
    "unique_values_gender = data['gender'].unique()\n",
    "unique_values_smoking_history = data['smoking_history'].unique()\n",
    "\n",
    "print(\"\\nUnique Values in 'gender':\", unique_values_gender)\n",
    "print(\"Unique Values in 'smoking_history':\", unique_values_smoking_history)\n"
   ]
  },
  {
   "cell_type": "markdown",
   "metadata": {},
   "source": [
    "2. Handling Categorical Columns"
   ]
  },
  {
   "cell_type": "code",
   "execution_count": 11,
   "metadata": {},
   "outputs": [
    {
     "name": "stdout",
     "output_type": "stream",
     "text": [
      "\n",
      "Transformed Data (Gender Encoded):\n",
      "    gender   age  hypertension  heart_disease smoking_history    bmi  \\\n",
      "0       0  80.0             0              1           never  25.19   \n",
      "1       0  54.0             0              0         No Info  27.32   \n",
      "2       1  28.0             0              0           never  27.32   \n",
      "3       0  36.0             0              0         current  23.45   \n",
      "4       1  76.0             1              1         current  20.14   \n",
      "\n",
      "   HbA1c_level  blood_glucose_level  diabetes  \n",
      "0          6.6                  140         0  \n",
      "1          6.6                   80         0  \n",
      "2          5.7                  158         0  \n",
      "3          5.0                  155         0  \n",
      "4          4.8                  155         0  \n"
     ]
    }
   ],
   "source": [
    "from sklearn.preprocessing import LabelEncoder\n",
    "\n",
    "# Convert the 'gender' column using Label Encoding\n",
    "label_encoder = LabelEncoder()\n",
    "data['gender'] = label_encoder.fit_transform(data['gender'])\n",
    "\n",
    "# Display the transformed data to verify changes\n",
    "print(\"\\nTransformed Data (Gender Encoded):\\n\", data.head())\n"
   ]
  },
  {
   "cell_type": "code",
   "execution_count": 12,
   "metadata": {},
   "outputs": [
    {
     "name": "stdout",
     "output_type": "stream",
     "text": [
      "\n",
      "Data After Handling 'smoking_history':\n",
      "    gender   age  hypertension  heart_disease    bmi  HbA1c_level  \\\n",
      "0       0  80.0             0              1  25.19          6.6   \n",
      "1       0  54.0             0              0  27.32          6.6   \n",
      "2       1  28.0             0              0  27.32          5.7   \n",
      "3       0  36.0             0              0  23.45          5.0   \n",
      "4       1  76.0             1              1  20.14          4.8   \n",
      "\n",
      "   blood_glucose_level  diabetes  smoking_history_Unknown  \\\n",
      "0                  140         0                    False   \n",
      "1                   80         0                     True   \n",
      "2                  158         0                    False   \n",
      "3                  155         0                    False   \n",
      "4                  155         0                    False   \n",
      "\n",
      "   smoking_history_current  smoking_history_ever  smoking_history_former  \\\n",
      "0                    False                 False                   False   \n",
      "1                    False                 False                   False   \n",
      "2                    False                 False                   False   \n",
      "3                     True                 False                   False   \n",
      "4                     True                 False                   False   \n",
      "\n",
      "   smoking_history_never  smoking_history_not current  \n",
      "0                   True                        False  \n",
      "1                  False                        False  \n",
      "2                   True                        False  \n",
      "3                  False                        False  \n",
      "4                  False                        False  \n"
     ]
    }
   ],
   "source": [
    "# Replace 'No Info' with 'Unknown' and use one-hot encoding\n",
    "data['smoking_history'] = data['smoking_history'].replace('No Info', 'Unknown')\n",
    "data = pd.get_dummies(data, columns=['smoking_history'])\n",
    "\n",
    "# Display the data to verify changes\n",
    "print(\"\\nData After Handling 'smoking_history':\\n\", data.head())\n"
   ]
  },
  {
   "cell_type": "markdown",
   "metadata": {},
   "source": [
    "3. Preparing Data for Model Training"
   ]
  },
  {
   "cell_type": "code",
   "execution_count": 13,
   "metadata": {},
   "outputs": [],
   "source": [
    "# Prepare features and target variable\n",
    "X = data.drop('diabetes', axis=1)\n",
    "y = data['diabetes']\n",
    "\n",
    "# Split the data into training and testing sets\n",
    "from sklearn.model_selection import train_test_split\n",
    "X_train, X_test, y_train, y_test = train_test_split(X, y, test_size=0.2, random_state=42)\n"
   ]
  },
  {
   "cell_type": "markdown",
   "metadata": {},
   "source": [
    "4. Build and Train the Random Forest Model"
   ]
  },
  {
   "cell_type": "code",
   "execution_count": 14,
   "metadata": {},
   "outputs": [],
   "source": [
    "from sklearn.ensemble import RandomForestClassifier\n",
    "\n",
    "# Build and train the Random Forest model\n",
    "rf_model = RandomForestClassifier(n_estimators=100, random_state=42)\n",
    "rf_model.fit(X_train, y_train)\n",
    "\n",
    "# Make predictions\n",
    "y_pred = rf_model.predict(X_test)\n"
   ]
  },
  {
   "cell_type": "markdown",
   "metadata": {},
   "source": [
    "5. Evaluate the Model"
   ]
  },
  {
   "cell_type": "code",
   "execution_count": 15,
   "metadata": {},
   "outputs": [
    {
     "name": "stdout",
     "output_type": "stream",
     "text": [
      "\n",
      "Accuracy: 97.02%\n",
      "\n",
      "Classification Report:\n",
      "               precision    recall  f1-score   support\n",
      "\n",
      "           0       0.97      1.00      0.98     18292\n",
      "           1       0.94      0.69      0.80      1708\n",
      "\n",
      "    accuracy                           0.97     20000\n",
      "   macro avg       0.96      0.84      0.89     20000\n",
      "weighted avg       0.97      0.97      0.97     20000\n",
      "\n"
     ]
    }
   ],
   "source": [
    "from sklearn.metrics import classification_report, accuracy_score\n",
    "\n",
    "# Evaluate the model\n",
    "accuracy = accuracy_score(y_test, y_pred)\n",
    "report = classification_report(y_test, y_pred)\n",
    "\n",
    "print(f\"\\nAccuracy: {accuracy * 100:.2f}%\")\n",
    "print(\"\\nClassification Report:\\n\", report)\n"
   ]
  }
 ],
 "metadata": {
  "kernelspec": {
   "display_name": "Python 3",
   "language": "python",
   "name": "python3"
  },
  "language_info": {
   "codemirror_mode": {
    "name": "ipython",
    "version": 3
   },
   "file_extension": ".py",
   "mimetype": "text/x-python",
   "name": "python",
   "nbconvert_exporter": "python",
   "pygments_lexer": "ipython3",
   "version": "3.12.7"
  }
 },
 "nbformat": 4,
 "nbformat_minor": 2
}
